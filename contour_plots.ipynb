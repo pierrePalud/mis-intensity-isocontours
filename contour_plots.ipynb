{
 "cells": [
  {
   "cell_type": "code",
   "execution_count": 1,
   "id": "generous-reservoir",
   "metadata": {},
   "outputs": [],
   "source": [
    "import numpy as np\n",
    "import pandas as pd\n",
    "\n",
    "import ipywidgets as widgets\n",
    "\n",
    "import src.utils as u\n",
    "\n",
    "%load_ext autoreload\n",
    "%autoreload 2"
   ]
  },
  {
   "cell_type": "code",
   "execution_count": 2,
   "id": "professional-wesley",
   "metadata": {},
   "outputs": [
    {
     "data": {
      "text/html": [
       "<div>\n",
       "<style scoped>\n",
       "    .dataframe tbody tr th:only-of-type {\n",
       "        vertical-align: middle;\n",
       "    }\n",
       "\n",
       "    .dataframe tbody tr th {\n",
       "        vertical-align: top;\n",
       "    }\n",
       "\n",
       "    .dataframe thead th {\n",
       "        text-align: right;\n",
       "    }\n",
       "</style>\n",
       "<table border=\"1\" class=\"dataframe\">\n",
       "  <thead>\n",
       "    <tr style=\"text-align: right;\">\n",
       "      <th></th>\n",
       "      <th>[001]Pressure</th>\n",
       "      <th>[002]radm</th>\n",
       "      <th>[003]AVmax</th>\n",
       "      <th>[004]I(C+, 158 um)</th>\n",
       "      <th>[005]I(O, 145 um)</th>\n",
       "    </tr>\n",
       "  </thead>\n",
       "  <tbody>\n",
       "    <tr>\n",
       "      <th>0</th>\n",
       "      <td>5.0</td>\n",
       "      <td>0.0</td>\n",
       "      <td>0.0</td>\n",
       "      <td>-5.283146</td>\n",
       "      <td>-8.155206</td>\n",
       "    </tr>\n",
       "    <tr>\n",
       "      <th>1</th>\n",
       "      <td>5.0</td>\n",
       "      <td>1.0</td>\n",
       "      <td>0.0</td>\n",
       "      <td>-4.467029</td>\n",
       "      <td>-6.482685</td>\n",
       "    </tr>\n",
       "    <tr>\n",
       "      <th>2</th>\n",
       "      <td>5.0</td>\n",
       "      <td>2.0</td>\n",
       "      <td>0.0</td>\n",
       "      <td>-4.191229</td>\n",
       "      <td>-5.507617</td>\n",
       "    </tr>\n",
       "    <tr>\n",
       "      <th>3</th>\n",
       "      <td>5.0</td>\n",
       "      <td>3.0</td>\n",
       "      <td>0.0</td>\n",
       "      <td>-4.191843</td>\n",
       "      <td>-5.268057</td>\n",
       "    </tr>\n",
       "    <tr>\n",
       "      <th>4</th>\n",
       "      <td>5.0</td>\n",
       "      <td>4.0</td>\n",
       "      <td>0.0</td>\n",
       "      <td>-4.158628</td>\n",
       "      <td>-5.362250</td>\n",
       "    </tr>\n",
       "  </tbody>\n",
       "</table>\n",
       "</div>"
      ],
      "text/plain": [
       "   [001]Pressure  [002]radm  [003]AVmax  [004]I(C+, 158 um)  [005]I(O, 145 um)\n",
       "0            5.0        0.0         0.0           -5.283146          -8.155206\n",
       "1            5.0        1.0         0.0           -4.467029          -6.482685\n",
       "2            5.0        2.0         0.0           -4.191229          -5.507617\n",
       "3            5.0        3.0         0.0           -4.191843          -5.268057\n",
       "4            5.0        4.0         0.0           -4.158628          -5.362250"
      ]
     },
     "execution_count": 2,
     "metadata": {},
     "output_type": "execute_result"
    }
   ],
   "source": [
    "grid = pd.read_csv('./data/example_grid.dat', sep=\"   \", header=0, engine='python')\n",
    "grid = np.log10(grid)\n",
    "grid.head()"
   ]
  },
  {
   "cell_type": "code",
   "execution_count": 3,
   "id": "passing-hamilton",
   "metadata": {},
   "outputs": [
    {
     "data": {
      "application/vnd.jupyter.widget-view+json": {
       "model_id": "ac27c1e173bd44dfa98fb0247ed98981",
       "version_major": 2,
       "version_minor": 0
      },
      "text/plain": [
       "interactive(children=(Select(description='col_x', options=('[001]Pressure', '[002]radm', '[003]AVmax', '[004]I…"
      ]
     },
     "metadata": {},
     "output_type": "display_data"
    }
   ],
   "source": [
    "def plot_contour_plot(col_x, col_y, col_z, value_coupe, n_points, n_levels, \n",
    "                      xlim, ylim, show_data, filename, save_fig):\n",
    "    global grid\n",
    "    X, Y, Z, grid_inter = u.compute_fig(grid, col_x, col_y, col_z, value_coupe, n_points, xlim, ylim)\n",
    "\n",
    "    u.plot_fig(X, Y, Z, col_z, col_x, col_y, n_levels, grid_inter, show_data, filename, save_fig)\n",
    "    \n",
    "\n",
    "widgets.interact(\n",
    "    plot_contour_plot,\n",
    "    col_x=widgets.Select(options=list(grid.columns), index=0), \n",
    "    col_y=widgets.Select(options=list(grid.columns), index=1), \n",
    "    col_z=widgets.Select(options=list(grid.columns), index=3),\n",
    "    value_coupe=widgets.Select(options=[\"low\", \"high\"], value=\"low\"),\n",
    "    n_points=widgets.IntSlider(min=10, max=250, value=100, step=10),\n",
    "    n_levels=widgets.IntSlider(min=5, max=50, value=10, step=1),\n",
    "    xlim=widgets.FloatRangeSlider(value=(0,1), min=0, max=1, step=.01), \n",
    "    ylim=widgets.FloatRangeSlider(value=(0,1), min=0, max=1, step=.01),\n",
    "    show_data=widgets.Checkbox(True),\n",
    "    filename=widgets.Text(value='plot.png'),\n",
    "    save_fig=widgets.Checkbox(False),\n",
    ");"
   ]
  },
  {
   "cell_type": "code",
   "execution_count": null,
   "id": "checked-homework",
   "metadata": {},
   "outputs": [],
   "source": []
  }
 ],
 "metadata": {
  "kernelspec": {
   "display_name": "Python 3",
   "language": "python",
   "name": "python3"
  },
  "language_info": {
   "codemirror_mode": {
    "name": "ipython",
    "version": 3
   },
   "file_extension": ".py",
   "mimetype": "text/x-python",
   "name": "python",
   "nbconvert_exporter": "python",
   "pygments_lexer": "ipython3",
   "version": "3.8.8"
  },
  "toc-autonumbering": true
 },
 "nbformat": 4,
 "nbformat_minor": 5
}
